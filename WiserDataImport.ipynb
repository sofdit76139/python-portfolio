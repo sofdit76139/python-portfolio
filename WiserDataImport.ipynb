{
 "cells": [
  {
   "cell_type": "code",
   "execution_count": 1,
   "id": "eb7c429d-c4ed-4f10-920e-ee4c91510e87",
   "metadata": {},
   "outputs": [
    {
     "name": "stdout",
     "output_type": "stream",
     "text": [
      "File(s) not present.\n",
      "Done.\n",
      "CPU times: total: 5.62 s\n",
      "Wall time: 1min 36s\n"
     ]
    }
   ],
   "source": [
    "%%time\n",
    "\n",
    "import gzip\n",
    "import shutil\n",
    "import pandas as pd\n",
    "\n",
    "import warnings\n",
    "import pyodbc\n",
    "from sqlalchemy import create_engine\n",
    "import urllib\n",
    "\n",
    "import datetime as dt\n",
    "\n",
    "import os\n",
    "\n",
    "with gzip.open(r'C:\\Users\\USER\\OneDrive - COMPANY\\Merchandising Documents\\Data\\Wiser\\Files\\WiserWeeklyReport.csv.gz') as f:\n",
    "    wiser_report = pd.read_csv(f)\n",
    "\n",
    "wiser_report.iloc[:,[1,2,3,9]] = wiser_report.iloc[:,[1,2,3,9]].replace({'=\"':''}, regex=True)\n",
    "\n",
    "wiser_report.iloc[:,[1,2,3,9]] = wiser_report.iloc[:,[1,2,3,9]].replace({'\"':''}, regex=True)\n",
    "\n",
    "wiser_report.iloc[:,[14,16]] = wiser_report.iloc[:,[14,16]].replace({'%':''}, regex=True)\n",
    "\n",
    "wiser_report = wiser_report.astype({'CURRENT_MARGIN_PERC': 'float', 'NEW_MARGIN_PERC': 'float'})\n",
    "\n",
    "wiser_report['CURRENT_MARGIN_PERC'] = wiser_report['CURRENT_MARGIN_PERC'] / 100\n",
    "\n",
    "wiser_report['NEW_MARGIN_PERC'] = wiser_report['NEW_MARGIN_PERC'] / 100\n",
    "\n",
    "wiser_report['CreatedTime'] = dt.datetime.now()\n",
    "\n",
    "warnings.filterwarnings('ignore')\n",
    "\n",
    "# cnxn = pyodbc.connect(driver='{ODBC Driver 17 for SQL Server}', server='tcp:10.3.6.50',database='reports', trusted_connection='yes')\n",
    "\n",
    "# Insert Dataframe into SQL Server:\n",
    "\n",
    "engine = create_engine('mssql+pyodbc://@' + 'db3-10' + '/' + 'reports' + '?trusted_connection=yes&driver=ODBC+Driver+17+for+SQL+Server')\n",
    "\n",
    "wiser_report.to_sql('Wiser', schema='dbo', con = engine, if_exists='replace', index=False)\n",
    "\n",
    "try:\n",
    "    os.remove(r'C:\\Users\\USER\\OneDrive - COMPANY\\Merchandising Documents\\Data\\Wiser\\Files\\WiserWeeklyReport.csv.gz')\n",
    "    os.remove(r'C:\\Users\\USER\\OneDrive - COMPANY\\Merchandising Documents\\Data\\Wiser\\Files\\WiserWeeklyReport.csv')\n",
    "    \n",
    "except:\n",
    "  print(\"File(s) not present.\")\n",
    "\n",
    "finally:\n",
    "    print('Done.')"
   ]
  },
  {
   "cell_type": "code",
   "execution_count": 14,
   "id": "13adbd24-0208-46d1-9f9f-357a83af2657",
   "metadata": {},
   "outputs": [
    {
     "name": "stdout",
     "output_type": "stream",
     "text": [
      "0 - Product Name\n",
      "1 - Inventory Number\n",
      "2 - UPC/EAN\n",
      "3 - MPN\n",
      "4 - Product Price\n",
      "5 - Cost\n",
      "6 - New Price\n",
      "7 - Condition\n",
      "8 - SUBCATEGORY\n",
      "9 - UPC\n",
      "10 - VENDNAME\n",
      "11 - Category\n",
      "12 - MAP\n",
      "13 - CURRENT_MARGIN\n",
      "14 - CURRENT_MARGIN_PERC\n",
      "15 - NEW_MARGIN\n",
      "16 - NEW_MARGIN_PERC\n",
      "17 - Comp1\n",
      "18 - Comp1 Price\n",
      "19 - Comp1 Shipping\n",
      "20 - Comp1 URL\n",
      "21 - Comp2\n",
      "22 - Comp2 Price\n",
      "23 - Comp2 Shipping\n",
      "24 - Comp2 URL\n",
      "25 - Comp3\n",
      "26 - Comp3 Price\n",
      "27 - Comp3 Shipping\n",
      "28 - Comp3 URL\n",
      "29 - Comp4\n",
      "30 - Comp4 Price\n",
      "31 - Comp4 Shipping\n",
      "32 - Comp4 URL\n",
      "33 - Comp5\n",
      "34 - Comp5 Price\n",
      "35 - Comp5 Shipping\n",
      "36 - Comp5 URL\n",
      "37 - Total Competitors\n"
     ]
    }
   ],
   "source": [
    "# myColumnCount = len(wiser_report.columns)\n",
    "\n",
    "# i = 0\n",
    "\n",
    "# while i < myColumnCount:\n",
    "#     col = wiser_report.columns[i]\n",
    "#     # Get column index position of column\n",
    "#     col_index = list(wiser_report.columns).index(wiser_report.columns[i])\n",
    "#     print(str(col_index) + ' - ' + col)\n",
    "#     i += 1"
   ]
  }
 ],
 "metadata": {
  "kernelspec": {
   "display_name": "Python 3 (ipykernel)",
   "language": "python",
   "name": "python3"
  },
  "language_info": {
   "codemirror_mode": {
    "name": "ipython",
    "version": 3
   },
   "file_extension": ".py",
   "mimetype": "text/x-python",
   "name": "python",
   "nbconvert_exporter": "python",
   "pygments_lexer": "ipython3",
   "version": "3.9.7"
  }
 },
 "nbformat": 4,
 "nbformat_minor": 5
}
