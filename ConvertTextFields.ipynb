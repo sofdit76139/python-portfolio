{
 "cells": [
  {
   "cell_type": "code",
   "execution_count": 4,
   "id": "16a0489a-7100-46d7-b3df-ccdb86da6012",
   "metadata": {},
   "outputs": [],
   "source": [
    "#for excel files that were created by copy and where the UPC code or item ID is depicted in scientific notation, even though the field is formatted as text\n",
    "#make sure the first cell is selected\n",
    "\n",
    "import pyautogui as pg\n",
    "pg.PAUSE = 10 #initial lag\n",
    "pg.FAILSAFE = True\n",
    "\n",
    "pg.moveTo(2138, 286)\n",
    "\n",
    "pg.click(2138,286)\n",
    "\n",
    "pg.PAUSE = 0.5\n",
    "\n",
    "counter = 0\n",
    "\n",
    "while counter < 179:\n",
    "    pg.moveTo(2415, 196)\n",
    "    pg.click(2415, 196)\n",
    "    pg.PAUSE = 0.5\n",
    "    pg.press('enter')\n",
    "    \n",
    "    pg.PAUSE = 0.5\n",
    "    counter = counter + 1"
   ]
  },
  {
   "cell_type": "code",
   "execution_count": 2,
   "id": "63c5366b-c3bc-4756-8beb-ca5a8704b789",
   "metadata": {},
   "outputs": [
    {
     "name": "stdout",
     "output_type": "stream",
     "text": [
      "2415\n",
      "197\n"
     ]
    }
   ],
   "source": [
    "import pyautogui as pg\n",
    "\n",
    "pg.prompt('TEST.')\n",
    "\n",
    "currentMouseX, currentMouseY = pg.position()\n",
    "\n",
    "print(currentMouseX)\n",
    "\n",
    "print(currentMouseY)"
   ]
  },
  {
   "cell_type": "code",
   "execution_count": null,
   "id": "e19496d9-e84f-4ee8-ab19-071dfcc3e416",
   "metadata": {},
   "outputs": [],
   "source": []
  }
 ],
 "metadata": {
  "kernelspec": {
   "display_name": "Python 3 (ipykernel)",
   "language": "python",
   "name": "python3"
  },
  "language_info": {
   "codemirror_mode": {
    "name": "ipython",
    "version": 3
   },
   "file_extension": ".py",
   "mimetype": "text/x-python",
   "name": "python",
   "nbconvert_exporter": "python",
   "pygments_lexer": "ipython3",
   "version": "3.9.12"
  }
 },
 "nbformat": 4,
 "nbformat_minor": 5
}
