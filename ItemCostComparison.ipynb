{
 "cells": [
  {
   "cell_type": "code",
   "execution_count": null,
   "id": "66dbc48c-fba5-4c60-93be-f751e6f0138c",
   "metadata": {},
   "outputs": [],
   "source": [
    "#comparison of replacement costs across stores 1, 7, 8\n",
    "\n",
    "import win32com.client\n",
    "import glob\n",
    "import pandas as pd\n",
    "from datetime import date\n",
    "from functools import reduce\n",
    "import shutil\n",
    "import re\n",
    "import numpy as np\n",
    "\n",
    "# lst of column names which needs to be string\n",
    "lst_str_cols = ['Item Number']\n",
    "# use dictionary comprehension to make dict of dtypes\n",
    "dict_dtypes = {x : 'str'  for x in lst_str_cols}\n",
    "\n",
    "# use dict on dtypes\n",
    "\n",
    "dfCostCompare = pd.read_excel(r'C:\\Users\\Sofie.Dittmann\\OneDrive - Lehman'\"'\"'s\\Analysis\\\\2022_11_22 Full Export Stores 1-7-8.xlsx', dtype=dict_dtypes)\n",
    "\n",
    "dfCostCompare.head()"
   ]
  },
  {
   "cell_type": "code",
   "execution_count": null,
   "id": "c832d0db-99f9-45bb-9c64-0d2203e8986c",
   "metadata": {},
   "outputs": [],
   "source": [
    "import numpy as np\n",
    "\n",
    "dfCostCompare_pivoted = pd.pivot_table(dfCostCompare, values = 'Replacement Cost', index = 'Item Number', columns = 'ST', \n",
    "                                       aggfunc=np.sum)\n",
    "\n",
    "dfCostCompare_unpivoted = dfCostCompare_pivoted.reset_index()\n",
    "\n",
    "dfCostCompare_unpivoted = dfCostCompare_unpivoted.rename_axis(None, axis=1)\n",
    "\n",
    "dfCostCompare_unpivoted.head()"
   ]
  },
  {
   "cell_type": "code",
   "execution_count": null,
   "id": "467ce25d-2d41-4204-a30e-1e34d2c16452",
   "metadata": {},
   "outputs": [],
   "source": [
    "from functools import reduce\n",
    "\n",
    "data_frames = [dfCostCompare_unpivoted, dfCostCompare]\n",
    "\n",
    "# df_merged = reduce(lambda left,right: pd.merge(left,right,on=['BarCode'], how='left'), data_frames).fillna('')\n",
    "\n",
    "df_merged = reduce(lambda left,right: pd.merge(left,right,left_on=['Item Number'],right_on=['Item Number'], how='left'), data_frames).fillna('null')\n",
    "\n",
    "df_merged.drop(df_merged.columns[[4,8]], axis = 1, inplace=True)\n",
    "\n",
    "df_merged.drop_duplicates(subset=\"Item Number\",\n",
    "                     keep='first', inplace=True)\n",
    "\n",
    "df_merged = df_merged.reset_index(drop=True)\n",
    "\n",
    "df_merged.head()"
   ]
  },
  {
   "cell_type": "code",
   "execution_count": null,
   "id": "6789b456-c6a1-42c5-88c7-6d63ccfa5963",
   "metadata": {},
   "outputs": [],
   "source": [
    "df_merged = df_merged.reindex(columns=['Item Number','Item Description','Vendor Code', 'Vendor Name',1,7,8])\n",
    "\n",
    "df_merged.head()"
   ]
  },
  {
   "cell_type": "code",
   "execution_count": null,
   "id": "798df82d-5105-4449-ba70-fd9115f80b00",
   "metadata": {},
   "outputs": [],
   "source": [
    "df_merged.to_excel(r'C:\\Users\\Sofie.Dittmann\\OneDrive - Lehman'\"'\"'s\\Analysis\\\\2022_11_22 Cost Comparison Stores 1-7-8.xlsx', index=False, header=True)"
   ]
  }
 ],
 "metadata": {
  "kernelspec": {
   "display_name": "Python 3 (ipykernel)",
   "language": "python",
   "name": "python3"
  },
  "language_info": {
   "codemirror_mode": {
    "name": "ipython",
    "version": 3
   },
   "file_extension": ".py",
   "mimetype": "text/x-python",
   "name": "python",
   "nbconvert_exporter": "python",
   "pygments_lexer": "ipython3",
   "version": "3.9.7"
  }
 },
 "nbformat": 4,
 "nbformat_minor": 5
}
