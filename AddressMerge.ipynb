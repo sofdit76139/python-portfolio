{
 "cells": [
  {
   "cell_type": "code",
   "execution_count": 2,
   "id": "4de84040",
   "metadata": {},
   "outputs": [
    {
     "name": "stdout",
     "output_type": "stream",
     "text": [
      "Done.\n"
     ]
    }
   ],
   "source": [
    "#original script combining database information with a zones table uploaded to the reports database\n",
    "#saved at least 50% in catalog shipment costs, run several times a week\n",
    "\n",
    "import warnings\n",
    "\n",
    "warnings.filterwarnings('ignore')\n",
    "\n",
    "import pyodbc \n",
    "\n",
    "cnxn = pyodbc.connect(driver = '{ODBC Driver 17 for SQL Server}', server = 'tcp:10.3.6.50', database = 'reports', trusted_connection = 'yes')\n",
    "\n",
    "cursor = cnxn.cursor()\n",
    "\n",
    "import pandas as pd\n",
    "\n",
    "query = '''\n",
    "\n",
    "SELECT *\n",
    "\n",
    "FROM SD_Catalog_Shipments\n",
    "\n",
    "'''\n",
    "\n",
    "dfCustomerAddresses = pd.read_sql(query, cnxn)\n",
    "\n",
    "query = '''\n",
    "\n",
    "SELECT *\n",
    "\n",
    "FROM USPS_Zones\n",
    "\n",
    "'''\n",
    "\n",
    "dfUSPSZones = pd.read_sql(query, cnxn)\n",
    "\n",
    "dfCustomerAddresses = dfCustomerAddresses[dfCustomerAddresses.COUNTRYREGIONID == 'USA']\n",
    "\n",
    "dfCustomerAddresses = dfCustomerAddresses.rename({'COUNTRYREGIONID': 'COUNTRY'}, axis = 1)\n",
    "\n",
    "dfJoined = dfCustomerAddresses.merge(dfUSPSZones, how = 'cross')\n",
    "\n",
    "dfJoined['ZIPCODE_NUMERIC'] = dfJoined['ZIPCODE'].str.slice(0,5)\n",
    "\n",
    "dfJoined[['ZipCode_FROM', 'ZipCode_TO', 'ZIPCODE_NUMERIC', 'Zone']] = dfJoined[['ZipCode_FROM', 'ZipCode_TO', 'ZIPCODE_NUMERIC', 'Zone']].apply(pd.to_numeric)\n",
    "\n",
    "dfJoined = dfJoined.query('ZipCode_FROM <= ZIPCODE_NUMERIC <= ZipCode_TO')\n",
    "\n",
    "dfJoined['Zone'] = dfJoined['Zone'].fillna(0)\n",
    "\n",
    "dfJoined['Zone'] = dfJoined['Zone'].astype(int)\n",
    "\n",
    "dfJoined['QTY'] = dfJoined['QTY'].astype(int)\n",
    "\n",
    "dfJoined.drop(['ZipCode_FROM', 'ZipCode_TO', 'ZIPCODE_NUMERIC', 'STATUS'], inplace=True, axis=1)\n",
    "\n",
    "dfJoined = dfJoined.rename({'Zone': 'ZONE'}, axis = 1)\n",
    "\n",
    "dfJoined.reset_index(drop=True, inplace=True)\n",
    "\n",
    "dfJoined.to_excel('WeeklyCatalogShipments.xlsx', index=False, header=True)\n",
    "\n",
    "# import shutil\n",
    "\n",
    "# original = r'C:\\Users\\USER\\OneDrive - COMPANY\\Code\\Python\\Jupyter\\DataProjects\\CatalogShipments\\WeeklyCatalogShipments.xlsx'\n",
    "# target = r'C:\\Users\\USER\\OneDrive - COMPANY\\Data Projects\\Zone Mapping\\WeeklyCatalogShipments.xlsx'\n",
    "\n",
    "# shutil.copyfile(original, target)\n",
    "\n",
    "print('Done.')"
   ]
  }
 ],
 "metadata": {
  "interpreter": {
   "hash": "ac59ebe37160ed0dfa835113d9b8498d9f09ceb179beaac4002f036b9467c963"
  },
  "kernelspec": {
   "display_name": "Python 3 (ipykernel)",
   "language": "python",
   "name": "python3"
  },
  "language_info": {
   "codemirror_mode": {
    "name": "ipython",
    "version": 3
   },
   "file_extension": ".py",
   "mimetype": "text/x-python",
   "name": "python",
   "nbconvert_exporter": "python",
   "pygments_lexer": "ipython3",
   "version": "3.9.12"
  }
 },
 "nbformat": 4,
 "nbformat_minor": 5
}
