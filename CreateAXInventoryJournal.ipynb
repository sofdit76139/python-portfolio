{
 "cells": [
  {
   "cell_type": "code",
   "execution_count": 7,
   "id": "08736836-a2fc-4653-adb3-b0c7108e0c29",
   "metadata": {},
   "outputs": [],
   "source": [
    "#start this after you have created an empty journal and imported lines of entries\n",
    "#click into the top cell for \"counted\" right after starting the script\n",
    "\n",
    "import pyautogui as pg\n",
    "pg.PAUSE = 10 #initial lag so you can click in the right spot\n",
    "pg.FAILSAFE = True\n",
    "\n",
    "#screenWidth, screenHeight = pyautogui.size()\n",
    "\n",
    "#currentMouseX, currentMouseY = pg.position()\n",
    "\n",
    "pg.click()\n",
    "\n",
    "pg.PAUSE = 0.5\n",
    "\n",
    "counter = 0\n",
    "\n",
    "while counter < 27:\n",
    "    pg.write('0')\n",
    "    pg.press('down')\n",
    "    counter = counter + 1"
   ]
  },
  {
   "cell_type": "code",
   "execution_count": null,
   "id": "d4b61c3e-7996-4b56-b40c-9f671420715c",
   "metadata": {},
   "outputs": [],
   "source": []
  }
 ],
 "metadata": {
  "kernelspec": {
   "display_name": "Python 3 (ipykernel)",
   "language": "python",
   "name": "python3"
  },
  "language_info": {
   "codemirror_mode": {
    "name": "ipython",
    "version": 3
   },
   "file_extension": ".py",
   "mimetype": "text/x-python",
   "name": "python",
   "nbconvert_exporter": "python",
   "pygments_lexer": "ipython3",
   "version": "3.9.12"
  }
 },
 "nbformat": 4,
 "nbformat_minor": 5
}
