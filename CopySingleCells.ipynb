{
 "cells": [
  {
   "cell_type": "code",
   "execution_count": 4,
   "id": "13193440-6071-45db-98b9-2bb86440f669",
   "metadata": {},
   "outputs": [],
   "source": [
    "#copy single cells where Excel does weird things when you try to copy them as a block\n",
    "#make sure the first cell is selected\n",
    "\n",
    "import pyautogui as pg\n",
    "pg.PAUSE = 10 #initial lag\n",
    "pg.FAILSAFE = True\n",
    "\n",
    "# pg.moveTo(2500, 264)\n",
    "\n",
    "# pg.click(2500, 264)\n",
    "\n",
    "pg.moveTo(134, 270)\n",
    "\n",
    "pg.click(134, 270)\n",
    "\n",
    "pg.PAUSE = 0.5\n",
    "\n",
    "pg.hotkey('ctrl', 'c')\n",
    "pg.PAUSE = 0.5\n",
    "\n",
    "counter = 0\n",
    "\n",
    "while counter < 30:\n",
    "    pg.hotkey('ctrl', 'c')\n",
    "    pg.PAUSE = 0.5\n",
    "    pg.press('left')\n",
    "    pg.hotkey('ctrl', 'v')\n",
    "    pg.press('right')\n",
    "    pg.press('down')\n",
    "    pg.PAUSE = 0.5\n",
    "    counter = counter + 1\n",
    "\n",
    "# while counter < 653:\n",
    "#     pg.press('down')\n",
    "#     pg.hotkey('ctrl', 'v')\n",
    "#     pg.PAUSE = 0.5\n",
    "#     counter = counter + 1"
   ]
  },
  {
   "cell_type": "code",
   "execution_count": 2,
   "id": "032de2d4-79b6-45c5-bd31-bec7de69afce",
   "metadata": {},
   "outputs": [
    {
     "name": "stdout",
     "output_type": "stream",
     "text": [
      "134\n",
      "262\n"
     ]
    }
   ],
   "source": [
    "import pyautogui as pg\n",
    "\n",
    "pg.prompt('TEST.')\n",
    "\n",
    "currentMouseX, currentMouseY = pg.position()\n",
    "\n",
    "print(currentMouseX)\n",
    "\n",
    "print(currentMouseY)"
   ]
  },
  {
   "cell_type": "code",
   "execution_count": null,
   "id": "c06efe1b-f2d1-4edf-95df-4633cc88504f",
   "metadata": {},
   "outputs": [],
   "source": [
    "import pyautogui as pg\n",
    "pg.PAUSE = 10 #initial lag\n",
    "pg.FAILSAFE = True\n",
    "\n",
    "# pg.moveTo(2500, 264)\n",
    "\n",
    "# pg.click(2500, 264)\n",
    "\n",
    "counter = 0\n",
    "\n",
    "counter2 = 0\n",
    "\n",
    "j = 250\n",
    "\n",
    "with pg.hold('ctrl'):\n",
    "\n",
    "    while counter2 < 377:\n",
    "        while counter < 37:\n",
    "            pg.moveTo(-1860, j)\n",
    "            pg.click(-1860, j)\n",
    "            pg.PAUSE = 0.5\n",
    "            counter = counter + 1\n",
    "            j = j + 20\n",
    "        pg.hotkey('pagedown')\n",
    "    "
   ]
  },
  {
   "cell_type": "code",
   "execution_count": null,
   "id": "5bcf1217-b4a1-4f63-bae2-4c2fa55d0f50",
   "metadata": {},
   "outputs": [],
   "source": []
  }
 ],
 "metadata": {
  "kernelspec": {
   "display_name": "Python 3 (ipykernel)",
   "language": "python",
   "name": "python3"
  },
  "language_info": {
   "codemirror_mode": {
    "name": "ipython",
    "version": 3
   },
   "file_extension": ".py",
   "mimetype": "text/x-python",
   "name": "python",
   "nbconvert_exporter": "python",
   "pygments_lexer": "ipython3",
   "version": "3.9.12"
  }
 },
 "nbformat": 4,
 "nbformat_minor": 5
}
