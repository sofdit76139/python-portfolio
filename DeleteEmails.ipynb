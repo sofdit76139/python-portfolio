{
 "cells": [
  {
   "cell_type": "code",
   "execution_count": 2,
   "id": "c9911acc-073c-4894-93b2-0e4ed4cd289f",
   "metadata": {},
   "outputs": [],
   "source": [
    "import win32com.client\n",
    "\n",
    "outlook = win32com.client.Dispatch(\"Outlook.Application\").GetNamespace(\"MAPI\")\n",
    "\n",
    "# Select main Inbox\n",
    "inbox = outlook.GetDefaultFolder(6).Folders.Item('Reports')\n",
    "messages = inbox.Items\n",
    "\n",
    "# Delete all messages from a specific sender\n",
    "sender = 'reports@website.com'\n",
    "try:\n",
    "    for message in messages:\n",
    "        try:\n",
    "            s = message.sender\n",
    "            s = str(s)\n",
    "            if s == sender:\n",
    "                 message.Delete()\n",
    "        except:\n",
    "            pass\n",
    "except:\n",
    "    pass"
   ]
  },
  {
   "cell_type": "code",
   "execution_count": null,
   "id": "9c6134bb-7426-4d14-ba17-e1fa31c43c0f",
   "metadata": {},
   "outputs": [],
   "source": []
  }
 ],
 "metadata": {
  "kernelspec": {
   "display_name": "Python 3 (ipykernel)",
   "language": "python",
   "name": "python3"
  },
  "language_info": {
   "codemirror_mode": {
    "name": "ipython",
    "version": 3
   },
   "file_extension": ".py",
   "mimetype": "text/x-python",
   "name": "python",
   "nbconvert_exporter": "python",
   "pygments_lexer": "ipython3",
   "version": "3.9.12"
  }
 },
 "nbformat": 4,
 "nbformat_minor": 5
}
