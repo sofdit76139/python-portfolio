{
 "cells": [
  {
   "cell_type": "markdown",
   "id": "28b0dad2-c0e5-46aa-8db9-c2bc9c8c4b6c",
   "metadata": {},
   "source": [
    "Run several times a week. Imports a table from the database containing USPS zone information, then combining that information with catalog orders in a spreadsheet."
   ]
  },
  {
   "cell_type": "code",
   "execution_count": 1,
   "id": "6f7461a1-0872-4a74-ae3c-3ea5af0403ef",
   "metadata": {},
   "outputs": [
    {
     "name": "stdout",
     "output_type": "stream",
     "text": [
      "Done.\n"
     ]
    }
   ],
   "source": [
    "#second iteration after migration; script combining information with a zones table uploaded to the reports database\n",
    "#saved at least 50% in catalog shipment costs, run several times a week\n",
    "\n",
    "import warnings\n",
    "\n",
    "warnings.filterwarnings('ignore')\n",
    "\n",
    "import pyodbc \n",
    "\n",
    "cnxn = pyodbc.connect(driver = '{ODBC Driver 17 for SQL Server}', server = 'tcp:10.3.6.50', database = 'reports', trusted_connection = 'yes')\n",
    "\n",
    "cursor = cnxn.cursor()\n",
    "\n",
    "import pandas as pd\n",
    "\n",
    "query = '''\n",
    "\n",
    "SELECT *\n",
    "\n",
    "FROM USPS_Zones\n",
    "\n",
    "'''\n",
    "\n",
    "dfUSPSZones = pd.read_sql(query, cnxn)\n",
    "\n",
    "dfCustomerAddresses = pd.read_excel(r'C:\\Users\\USER\\OneDrive - COMPANY\\Data Projects\\Catalogs\\Files\\Catalogs.xlsx')\n",
    "\n",
    "dfCustomerAddresses = dfCustomerAddresses.fillna('')\n",
    "\n",
    "dfCustomerAddresses = dfCustomerAddresses[((dfCustomerAddresses.Shippped == '') & (dfCustomerAddresses['Non-US'] == '') & (dfCustomerAddresses['postal_code'].astype(str).str.isnumeric()))]\n",
    "\n",
    "dfJoined = dfCustomerAddresses.merge(dfUSPSZones, how = 'cross')\n",
    "\n",
    "dfJoined['ZIPCODE_NUMERIC'] = dfJoined['postal_code'].astype(str).str.slice(0,5)\n",
    "\n",
    "dfJoined[['ZipCode_FROM', 'ZipCode_TO', 'ZIPCODE_NUMERIC', 'Zone']] = dfJoined[['ZipCode_FROM', 'ZipCode_TO', 'ZIPCODE_NUMERIC', 'Zone']].apply(pd.to_numeric)\n",
    "\n",
    "dfJoined = dfJoined.query('ZipCode_FROM <= ZIPCODE_NUMERIC <= ZipCode_TO')\n",
    "\n",
    "dfJoined['Zone'] = dfJoined['Zone'].fillna(0)\n",
    "\n",
    "dfJoined['Zone'] = dfJoined['Zone'].astype(int)\n",
    "\n",
    "dfJoined['quantity_ordered'] = dfJoined['quantity_ordered'].astype(int)\n",
    "\n",
    "dfJoined.drop(['ZipCode_FROM', 'ZipCode_TO', 'ZIPCODE_NUMERIC', 'sku', 'product_name', 'Shippped', 'Non-US'], inplace=True, axis=1)\n",
    "\n",
    "dfJoined = dfJoined.rename({'Zone': 'ZONE'}, axis = 1)\n",
    "\n",
    "dfJoined.reset_index(drop=True, inplace=True)\n",
    "\n",
    "dfJoined.to_excel('WeeklyCatalogShipments.xlsx', index=False, header=True)\n",
    "\n",
    "import shutil\n",
    "\n",
    "original = r'C:\\Users\\USER\\OneDrive - COMPANY\\Code\\Python\\Jupyter\\DataProjects\\CatalogShipments\\WeeklyCatalogShipments.xlsx'\n",
    "target = r'C:\\Users\\USER\\OneDrive - COMPANY\\Data Projects\\Catalogs\\WeeklyCatalogShipments.xlsx'\n",
    "\n",
    "shutil.copyfile(original, target)\n",
    "\n",
    "print('Done.')"
   ]
  },
  {
   "cell_type": "code",
   "execution_count": null,
   "id": "474f8c76-cd87-4135-a235-ee5d5d89cb19",
   "metadata": {},
   "outputs": [],
   "source": []
  }
 ],
 "metadata": {
  "kernelspec": {
   "display_name": "Python 3 (ipykernel)",
   "language": "python",
   "name": "python3"
  },
  "language_info": {
   "codemirror_mode": {
    "name": "ipython",
    "version": 3
   },
   "file_extension": ".py",
   "mimetype": "text/x-python",
   "name": "python",
   "nbconvert_exporter": "python",
   "pygments_lexer": "ipython3",
   "version": "3.9.12"
  }
 },
 "nbformat": 4,
 "nbformat_minor": 5
}
